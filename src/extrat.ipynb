{
 "cells": [
  {
   "cell_type": "code",
   "execution_count": 15,
   "metadata": {},
   "outputs": [
    {
     "name": "stdout",
     "output_type": "stream",
     "text": [
      "{'e': 'aggTrade', 'E': 1703626208059, 's': 'ETHEUR', 'a': 426566, 'p': '2013.02000000', 'q': '0.18390000', 'f': 433418, 'l': 433418, 'T': 1703626208059, 'm': False, 'M': True}\n",
      "---\n",
      "{'e': 'kline', 'E': 1703626200011, 's': 'ETHEUR', 'k': {'t': 1703626140000, 'T': 1703626199999, 's': 'ETHEUR', 'i': '1m', 'f': 433413, 'L': 433417, 'o': '2012.36000000', 'c': '2012.79000000', 'h': '2012.79000000', 'l': '2012.36000000', 'v': '0.50700000', 'n': 5, 'x': True, 'q': '1020.35548400', 'V': '0.50700000', 'Q': '1020.35548400', 'B': '0'}}\n"
     ]
    },
    {
     "name": "stderr",
     "output_type": "stream",
     "text": [
      "/var/folders/1g/8kqkzgzn1bx5lqk4v5wnb2b00000gq/T/ipykernel_30345/1901849800.py:23: RuntimeWarning: coroutine 'ReconnectingWebsocket.__aexit__' was never awaited\n",
      "  socket_trade.__aexit__(None, None, None)\n",
      "RuntimeWarning: Enable tracemalloc to get the object allocation traceback\n"
     ]
    },
    {
     "data": {
      "text/plain": [
       "<coroutine object ReconnectingWebsocket.__aexit__ at 0x106fa8b80>"
      ]
     },
     "execution_count": 15,
     "metadata": {},
     "output_type": "execute_result"
    }
   ],
   "source": [
    "from binance import Client, BinanceSocketManager\n",
    "\n",
    "api_key = 'N17QNtKJF26Uc663zoxenuVyLO3KyWyiAOCOu4Z15NT6xqbrSFFfYi3jUdu7qvIq'\n",
    "api_secret = 'wQaYNV1hHLPsdRMl8qB5Ks1e4zeRFXPkceasUgISSLRaehs4SThr7BtNcw0BP533'\n",
    "\n",
    "client = Client(api_key, api_secret, testnet=True)\n",
    "bsm = BinanceSocketManager(client)\n",
    "socket_trade = bsm.aggtrade_socket('ETHEUR')\n",
    "socket_candle = bsm.kline_socket('ETHEUR')\n",
    "\n",
    "await socket_trade.__aenter__()\n",
    "await socket_candle.__aenter__()\n",
    "\n",
    "msg_trade = await socket_trade.recv()\n",
    "msg_candle = await socket_candle.recv()\n",
    "\n",
    "print(msg_trade)\n",
    "print('---')\n",
    "print(msg_candle)\n",
    "\n",
    "#interpret results on https://binance-docs.github.io/apidocs/spot/en/#trade-streams\n",
    "\n",
    "socket_trade.__aexit__(None, None, None)\n",
    "socket_candle.__aexit__(None, None, None)\n"
   ]
  }
 ],
 "metadata": {
  "kernelspec": {
   "display_name": "base",
   "language": "python",
   "name": "python3"
  },
  "language_info": {
   "codemirror_mode": {
    "name": "ipython",
    "version": 3
   },
   "file_extension": ".py",
   "mimetype": "text/x-python",
   "name": "python",
   "nbconvert_exporter": "python",
   "pygments_lexer": "ipython3",
   "version": "3.11.4"
  }
 },
 "nbformat": 4,
 "nbformat_minor": 2
}
